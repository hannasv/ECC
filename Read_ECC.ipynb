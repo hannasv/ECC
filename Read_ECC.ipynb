{
 "cells": [
  {
   "cell_type": "markdown",
   "id": "360326f4-8916-4240-9dd6-7ffd9eb6e275",
   "metadata": {},
   "source": [
    "# European Cloud Cover (ECC)"
   ]
  },
  {
   "cell_type": "markdown",
   "id": "d1758b99-cac1-40d8-8d14-010ef7f6dc52",
   "metadata": {},
   "source": [
    "The dataset can be downloaded using the following commands. "
   ]
  },
  {
   "cell_type": "markdown",
   "id": "b70cc6c2-6614-4b9e-aa54-7b76082e31d2",
   "metadata": {},
   "source": [
    "## Have you downloaded the data? Skip the next path."
   ]
  },
  {
   "cell_type": "code",
   "execution_count": 1,
   "id": "fc318ead-ef29-4780-a29d-3dc9d6b641dd",
   "metadata": {},
   "outputs": [],
   "source": [
    "import os"
   ]
  },
  {
   "cell_type": "code",
   "execution_count": 3,
   "id": "9d626b34-801e-4963-8402-ca646f78af88",
   "metadata": {},
   "outputs": [],
   "source": [
    "dataset_path = '../ECC_DATA/'"
   ]
  },
  {
   "cell_type": "markdown",
   "id": "897b704a-b5b8-4889-899b-ba4cd11fe0d4",
   "metadata": {},
   "source": [
    "Checks if the dataset path is exits, and creates it. "
   ]
  },
  {
   "cell_type": "code",
   "execution_count": 6,
   "id": "0630bb4a-016a-4ae3-8aae-1cd1feddfe9b",
   "metadata": {},
   "outputs": [],
   "source": [
    "if not os.path.exists(dataset_path):\n",
    "    os.mkdir(dataset_path)\n",
    "    print(f'Created the directory {dataset_path}')"
   ]
  },
  {
   "cell_type": "markdown",
   "id": "b1c1480f-017b-4176-bda1-effca0feafae",
   "metadata": {},
   "source": [
    "### Add the automatic download. "
   ]
  },
  {
   "cell_type": "markdown",
   "id": "ab118c03-5665-412d-9fcb-18766aaed5fa",
   "metadata": {},
   "source": [
    "## Now that you have downloaded the data. Set the path to point to the directory"
   ]
  },
  {
   "cell_type": "code",
   "execution_count": 8,
   "id": "b0c70443-8618-4468-82e4-7fd30316c545",
   "metadata": {},
   "outputs": [
    {
     "ename": "ImportError",
     "evalue": "attempted relative import with no known parent package",
     "output_type": "error",
     "traceback": [
      "\u001b[0;31m---------------------------------------------------------------------------\u001b[0m",
      "\u001b[0;31mImportError\u001b[0m                               Traceback (most recent call last)",
      "\u001b[0;32m<ipython-input-8-d27c9e655fac>\u001b[0m in \u001b[0;36m<module>\u001b[0;34m\u001b[0m\n\u001b[0;32m----> 1\u001b[0;31m \u001b[0;32mfrom\u001b[0m \u001b[0;34m.\u001b[0m\u001b[0mio\u001b[0m \u001b[0;32mimport\u001b[0m \u001b[0mread_dataset_to_dataframe\u001b[0m\u001b[0;34m\u001b[0m\u001b[0;34m\u001b[0m\u001b[0m\n\u001b[0m",
      "\u001b[0;31mImportError\u001b[0m: attempted relative import with no known parent package"
     ]
    }
   ],
   "source": [
    "from io import read_dataset_to_dataframe"
   ]
  },
  {
   "cell_type": "code",
   "execution_count": null,
   "id": "563f9a38-b147-49db-ab2f-41d325904cbc",
   "metadata": {},
   "outputs": [],
   "source": []
  }
 ],
 "metadata": {
  "kernelspec": {
   "display_name": "Python 3",
   "language": "python",
   "name": "python3"
  },
  "language_info": {
   "codemirror_mode": {
    "name": "ipython",
    "version": 3
   },
   "file_extension": ".py",
   "mimetype": "text/x-python",
   "name": "python",
   "nbconvert_exporter": "python",
   "pygments_lexer": "ipython3",
   "version": "3.9.2"
  }
 },
 "nbformat": 4,
 "nbformat_minor": 5
}
